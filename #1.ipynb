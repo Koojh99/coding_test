{
 "cells": [
  {
   "cell_type": "code",
   "execution_count": 3,
   "id": "67e2fbe2-2354-4119-83b1-5ef5a65f34ad",
   "metadata": {},
   "outputs": [],
   "source": [
    "#####1.cpr\n",
    "\n",
    "basic_order = [\"check\", \"call\", \"pressure\", \"respiration\", \"repeat\"]\n",
    "def solution(cpr):\n",
    "    answer = []\n",
    "    for action in cpr:\n",
    "        for i in range(len(basic_order)):\n",
    "            if action == basic_order[i]:\n",
    "                answer.append(i+1)\n",
    "    return answer"
   ]
  },
  {
   "cell_type": "code",
   "execution_count": 4,
   "id": "e95410d0-cc92-45b7-b550-941f24a1cc58",
   "metadata": {},
   "outputs": [
    {
     "data": {
      "text/plain": [
       "[2, 4, 5, 1, 3]"
      ]
     },
     "execution_count": 4,
     "metadata": {},
     "output_type": "execute_result"
    }
   ],
   "source": [
    "cpr = [\"call\", \"respiration\", \"repeat\", \"check\", \"pressure\"]\n",
    "solution(cpr)"
   ]
  },
  {
   "cell_type": "code",
   "execution_count": 8,
   "id": "924c0d82-a3f2-474e-8173-e6324cb1045d",
   "metadata": {},
   "outputs": [
    {
     "name": "stdin",
     "output_type": "stream",
     "text": [
      " 4859\n"
     ]
    },
    {
     "name": "stdout",
     "output_type": "stream",
     "text": [
      "107\n"
     ]
    }
   ],
   "source": [
    "#####2.divide num\n",
    "\n",
    "number = int(input())\n",
    "answer = 0\n",
    "for i in range(2):\n",
    "    answer += number % 100\n",
    "    number //=100\n",
    "print(answer)"
   ]
  },
  {
   "cell_type": "code",
   "execution_count": null,
   "id": "139b2c2f-a160-4430-a2c8-619f6bc085b1",
   "metadata": {},
   "outputs": [],
   "source": []
  }
 ],
 "metadata": {
  "kernelspec": {
   "display_name": "Python 3 (ipykernel)",
   "language": "python",
   "name": "python3"
  },
  "language_info": {
   "codemirror_mode": {
    "name": "ipython",
    "version": 3
   },
   "file_extension": ".py",
   "mimetype": "text/x-python",
   "name": "python",
   "nbconvert_exporter": "python",
   "pygments_lexer": "ipython3",
   "version": "3.9.21"
  }
 },
 "nbformat": 4,
 "nbformat_minor": 5
}
